{
 "cells": [
  {
   "cell_type": "markdown",
   "id": "ad7f8b6f",
   "metadata": {},
   "source": [
    "# Advanced Use Cases\n",
    "## Natural Language Processing, Network Analysis, and Recommender Systems\n",
    "\n",
    "Week Ten - Oct 3, 2022\n",
    "\n",
    "Note, the author has all of the code available on [Github](https://github.com/joelgrus/data-science-from-scratch)\n"
   ]
  },
  {
   "cell_type": "code",
   "execution_count": null,
   "id": "c92d65ca",
   "metadata": {},
   "outputs": [],
   "source": [
    "import math, random, sys, os\n",
    "# Setting up to use the author's library, cloned into the 'scratch' folder here (MIT License retained)\n",
    "sys.path.insert(0,os.path.abspath('.'))\n",
    "\n",
    "# Let us first install the scikit-learn packages\n",
    "!conda install --yes --prefix {sys.prefix} matplotlib\n",
    "!conda install --yes --prefix {sys.prefix} tqdm"
   ]
  },
  {
   "cell_type": "markdown",
   "id": "11c46c70",
   "metadata": {},
   "source": [
    "## Intro\n"
   ]
  },
  {
   "cell_type": "code",
   "execution_count": null,
   "id": "78d5ba36",
   "metadata": {},
   "outputs": [],
   "source": []
  },
  {
   "cell_type": "markdown",
   "id": "5c9edd97",
   "metadata": {},
   "source": [
    "## Chapter 21 - Natural Language Processing\n"
   ]
  },
  {
   "cell_type": "code",
   "execution_count": null,
   "id": "97f1c856",
   "metadata": {},
   "outputs": [],
   "source": []
  },
  {
   "cell_type": "markdown",
   "id": "1b4a1382",
   "metadata": {},
   "source": [
    "## Chapter 22 - Network Analysis\n"
   ]
  },
  {
   "cell_type": "code",
   "execution_count": null,
   "id": "3cf583f7",
   "metadata": {},
   "outputs": [],
   "source": []
  },
  {
   "cell_type": "markdown",
   "id": "56e4e566",
   "metadata": {},
   "source": [
    "## Chapter 23 - Recommender Systems\n"
   ]
  },
  {
   "cell_type": "code",
   "execution_count": null,
   "id": "44b68ef6",
   "metadata": {},
   "outputs": [],
   "source": []
  },
  {
   "cell_type": "markdown",
   "id": "258da280",
   "metadata": {},
   "source": [
    "## Final Thoughts\n"
   ]
  }
 ],
 "metadata": {
  "kernelspec": {
   "display_name": "Python 3 (ipykernel)",
   "language": "python",
   "name": "python3"
  },
  "language_info": {
   "codemirror_mode": {
    "name": "ipython",
    "version": 3
   },
   "file_extension": ".py",
   "mimetype": "text/x-python",
   "name": "python",
   "nbconvert_exporter": "python",
   "pygments_lexer": "ipython3",
   "version": "3.10.6"
  }
 },
 "nbformat": 4,
 "nbformat_minor": 5
}
