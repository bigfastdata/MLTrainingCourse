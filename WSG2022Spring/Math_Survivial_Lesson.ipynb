{
 "cells": [
  {
   "cell_type": "markdown",
   "id": "d1d189ab-5e1e-4c8d-b9d3-1f97d062ffae",
   "metadata": {
    "tags": []
   },
   "source": [
    "Week of July 25, 2022 - Crash Course on Surviving the Math\n",
    "===========================================================\n"
   ]
  },
  {
   "cell_type": "code",
   "execution_count": 1,
   "id": "6b01370e-5035-4309-9599-5793dbb2072d",
   "metadata": {},
   "outputs": [
    {
     "name": "stdout",
     "output_type": "stream",
     "text": [
      "My scalar value is 3.1415\n",
      "My vector has the list of values: [1, 1, 2, 3, 5, 8, 13]\n"
     ]
    }
   ],
   "source": [
    "# This is a Python Commentm which starts with a '#' sign\n",
    "# Below is Python Code\n",
    "\n",
    "myValue = 3.1415\n",
    "myVector = [1, 1, 2, 3, 5, 8, 13]\n",
    "\n",
    "print(\"My scalar value is %s\" % myValue)\n",
    "print(\"My vector has the list of values: %s\" % myVector)"
   ]
  },
  {
   "cell_type": "markdown",
   "id": "a7a99423-e402-4f6f-a51c-9f8f66863728",
   "metadata": {},
   "source": [
    "The Second Most Imporant Equation in Machine Learning\n",
    "=====================================================\n",
    "There are [may different 'distance' approaches](https://towardsdatascience.com/9-distance-measures-in-data-science-918109d069fa), but the most common is one we are familiar with by other names and simpler forms:\n",
    "\n",
    "![Euclidian Distance](https://miro.medium.com/max/844/0*wv6oFAVd0_PQ50mX)\n",
    "\n",
    "... but in the end, these are all forms of the [Minkowski Distance](https://en.wikipedia.org/wiki/Minkowski_distance): \n",
    "\n",
    "![Minkowski Distance](https://miro.medium.com/max/902/0*UbbyH2MUPb5ZBa64). The value of 'p' transforms the equation from Manhattan distance (p=0, a.k.a. L1-Norm) to Euclidian distance (p=1, a.k.a. L2-Norm), or [Chebyshev distance](https://en.wikipedia.org/wiki/Chebyshev_distance) as p approaches infinitiy. For fractional values of 'p' where 0 < p < 1, the 'Agrawal' distance is extremely useful to mitigate the [Curse of Dimensionality](https://en.wikipedia.org/wiki/Curse_of_dimensionality). \n",
    "\n",
    "![Variations of P](https://upload.wikimedia.org/wikipedia/commons/thumb/0/00/2D_unit_balls.svg/967px-2D_unit_balls.svg.png)"
   ]
  },
  {
   "cell_type": "code",
   "execution_count": null,
   "id": "850ee313-e74c-4434-88ce-e3361e40240c",
   "metadata": {},
   "outputs": [],
   "source": []
  }
 ],
 "metadata": {
  "kernelspec": {
   "display_name": "Python 3 (ipykernel)",
   "language": "python",
   "name": "python3"
  },
  "language_info": {
   "codemirror_mode": {
    "name": "ipython",
    "version": 3
   },
   "file_extension": ".py",
   "mimetype": "text/x-python",
   "name": "python",
   "nbconvert_exporter": "python",
   "pygments_lexer": "ipython3",
   "version": "3.7.12"
  }
 },
 "nbformat": 4,
 "nbformat_minor": 5
}
