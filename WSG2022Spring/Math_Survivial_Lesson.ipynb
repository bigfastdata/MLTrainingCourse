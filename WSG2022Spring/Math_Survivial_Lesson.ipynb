{
 "cells": [
  {
   "cell_type": "markdown",
   "id": "d1d189ab-5e1e-4c8d-b9d3-1f97d062ffae",
   "metadata": {
    "tags": []
   },
   "source": [
    "Week of July 20, 2022 - Crash Course on Surviving the Math\n",
    "===========================================================\n"
   ]
  },
  {
   "cell_type": "code",
   "execution_count": 1,
   "id": "6b01370e-5035-4309-9599-5793dbb2072d",
   "metadata": {},
   "outputs": [
    {
     "name": "stdout",
     "output_type": "stream",
     "text": [
      "My scalar value is 3.1415\n",
      "My vector has the list of values: [1, 1, 2, 3, 5, 8, 13]\n"
     ]
    }
   ],
   "source": [
    "# This is a Python Commentm which starts with a '#' sign\n",
    "# Below is Python Code\n",
    "\n",
    "myValue = 3.1415\n",
    "myVector = [1, 1, 2, 3, 5, 8, 13]\n",
    "\n",
    "print(\"My scalar value is %s\" % myValue)\n",
    "print(\"My vector has the list of values: %s\" % myVector)"
   ]
  }
 ],
 "metadata": {
  "kernelspec": {
   "display_name": "Python 3 (ipykernel)",
   "language": "python",
   "name": "python3"
  },
  "language_info": {
   "codemirror_mode": {
    "name": "ipython",
    "version": 3
   },
   "file_extension": ".py",
   "mimetype": "text/x-python",
   "name": "python",
   "nbconvert_exporter": "python",
   "pygments_lexer": "ipython3",
   "version": "3.7.12"
  }
 },
 "nbformat": 4,
 "nbformat_minor": 5
}
