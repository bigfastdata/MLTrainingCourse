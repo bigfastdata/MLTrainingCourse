{
 "cells": [
  {
   "cell_type": "code",
   "execution_count": null,
   "id": "cdb96482",
   "metadata": {},
   "outputs": [],
   "source": [
    "# Week 5 - Regression Modeling\n",
    "Week Five - August 22, 2022\n",
    "\n",
    "\n",
    "Reminder, the author has all of the code available on [Github](https://github.com/joelgrus/data-science-from-scratch)\n",
    "\n",
    "The data set is included in this repo, but sourced from [Kaggle](https://www.kaggle.com/datasets/bagavathypriya/spam-ham-dataset)\n",
    "\n",
    "## Chapter 14 - Linear Regression"
   ]
  },
  {
   "cell_type": "code",
   "execution_count": null,
   "id": "3179eb90",
   "metadata": {},
   "outputs": [],
   "source": []
  },
  {
   "cell_type": "markdown",
   "id": "eeef250a",
   "metadata": {},
   "source": [
    "## Chapter 15 - Linear Regression"
   ]
  },
  {
   "cell_type": "code",
   "execution_count": null,
   "id": "c2e8854a",
   "metadata": {},
   "outputs": [],
   "source": []
  },
  {
   "cell_type": "markdown",
   "id": "a3c5dc9d",
   "metadata": {},
   "source": [
    "## Chapter 16 - Linear Regression"
   ]
  },
  {
   "cell_type": "code",
   "execution_count": null,
   "id": "9fbad022",
   "metadata": {},
   "outputs": [],
   "source": []
  }
 ],
 "metadata": {
  "kernelspec": {
   "display_name": "Python 3 (ipykernel)",
   "language": "python",
   "name": "python3"
  },
  "language_info": {
   "codemirror_mode": {
    "name": "ipython",
    "version": 3
   },
   "file_extension": ".py",
   "mimetype": "text/x-python",
   "name": "python",
   "nbconvert_exporter": "python",
   "pygments_lexer": "ipython3",
   "version": "3.8.10"
  }
 },
 "nbformat": 4,
 "nbformat_minor": 5
}
